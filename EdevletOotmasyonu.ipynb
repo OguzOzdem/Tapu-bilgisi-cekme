{
 "cells": [
  {
   "cell_type": "code",
   "execution_count": 93,
   "id": "c1f5a29f",
   "metadata": {},
   "outputs": [],
   "source": [
    "from bs4 import BeautifulSoup\n",
    "import requests\n",
    "from selenium import webdriver\n",
    "from selenium.webdriver.common.keys import Keys\n",
    "import time\n",
    "import csv\n",
    "import pandas as pdfrom \n",
    "from selenium.webdriver.common.by import By\n",
    "\n"
   ]
  },
  {
   "cell_type": "code",
   "execution_count": 96,
   "id": "75dbaef6",
   "metadata": {},
   "outputs": [],
   "source": [
    "driver_path = \"C:\\Python\\Selenium\\chromedriver\"\n",
    "\n",
    "browser = webdriver.Chrome()\n",
    "browser.get(\"https://giris.turkiye.gov.tr/Giris/gir\")\n",
    "\n",
    "\n",
    "yazı_giris=browser.find_element(By.ID,\"tridField\") \n",
    "yazı_giris.send_keys(\"5555\")\n",
    "\n",
    "\n"
   ]
  },
  {
   "cell_type": "code",
   "execution_count": null,
   "id": "d15c6fb8",
   "metadata": {},
   "outputs": [],
   "source": []
  },
  {
   "cell_type": "code",
   "execution_count": null,
   "id": "2d79af9b",
   "metadata": {},
   "outputs": [],
   "source": []
  }
 ],
 "metadata": {
  "kernelspec": {
   "display_name": "Python 3 (ipykernel)",
   "language": "python",
   "name": "python3"
  },
  "language_info": {
   "codemirror_mode": {
    "name": "ipython",
    "version": 3
   },
   "file_extension": ".py",
   "mimetype": "text/x-python",
   "name": "python",
   "nbconvert_exporter": "python",
   "pygments_lexer": "ipython3",
   "version": "3.9.13"
  }
 },
 "nbformat": 4,
 "nbformat_minor": 5
}
